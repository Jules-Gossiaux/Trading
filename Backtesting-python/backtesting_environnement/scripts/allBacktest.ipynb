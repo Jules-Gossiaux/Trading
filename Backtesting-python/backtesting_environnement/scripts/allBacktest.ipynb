{
 "cells": [
  {
   "cell_type": "code",
   "execution_count": 1,
   "metadata": {},
   "outputs": [],
   "source": [
    "import warnings\n",
    "warnings.filterwarnings('ignore', category=FutureWarning, module='backtesting')\n",
    "\n",
    "import pandas as pd\n",
    "import numpy as np\n",
    "import matplotlib.pyplot as plt\n",
    "import yfinance as yf\n",
    "from datetime import datetime\n",
    "from backtesting import Backtest, Strategy\n",
    "from backtesting.lib import crossover\n",
    "from backtesting.test import SMA\n",
    "\n",
    "#Faire en sorte de backtester sur fichiers telechargés\n",
    "#ranger les fichiers\n",
    "#Faire de l'asynchrone\n",
    "#Faire des stratégies avec tp et sl"
   ]
  },
  {
   "cell_type": "code",
   "execution_count": 2,
   "metadata": {},
   "outputs": [
    {
     "name": "stdout",
     "output_type": "stream",
     "text": [
      "                                Open      High       Low     Close     Volume\n",
      "Datetime                                                                     \n",
      "1970-01-01 00:26:49.430400  28782.01  28821.85  28763.94  28811.85  95.835795\n",
      "1970-01-01 00:26:49.430460  28812.64  28822.59  28714.29  28726.62  58.516227\n",
      "1970-01-01 00:26:49.430520  28728.28  28744.76  28684.69  28693.37  75.038373\n",
      "1970-01-01 00:26:49.430580  28693.37  28715.15  28682.09  28690.29  37.128193\n",
      "1970-01-01 00:26:49.430640  28690.29  28734.70  28680.00  28715.11  38.411112\n"
     ]
    }
   ],
   "source": [
    "# # Fonction pour télécharger des données historiques\n",
    "# def download_data(ticker, start_date, end_date):\n",
    "#     data = yf.download(ticker, start=start_date, end=end_date)\n",
    "#     data['Date'] = data.index\n",
    "#     return data\n",
    "\n",
    "# # Exemple de téléchargement de données\n",
    "# ticker = 'AAPL'  # Symbole boursier de l'action Apple\n",
    "# start_date = '2020-01-01'\n",
    "# end_date = '2023-01-01'\n",
    "\n",
    "# data = download_data(ticker, start_date, end_date)\n",
    "# print(data.head())\n",
    "\n",
    "def read_data_from_csv(filename):\n",
    "    data = pd.read_csv(filename)\n",
    "    data['Datetime'] = pd.to_datetime(data['Datetime'])\n",
    "    data.set_index('Datetime', inplace=True)\n",
    "    return data\n",
    "\n",
    "# Exemple de lecture de données à partir d'un fichier CSV local\n",
    "filename = '../data/1min/BTCUSDT-1m-binance-30K.csv'  # Remplacez par le nom de votre fichier CSV\n",
    "data = read_data_from_csv(filename)\n",
    "print(data.head())\n"
   ]
  },
  {
   "cell_type": "code",
   "execution_count": 3,
   "metadata": {},
   "outputs": [],
   "source": [
    "\n",
    "#definitions des indicateurs\n",
    "def RSI(data, period):\n",
    "    series = pd.Series(data)\n",
    "    delta = series.diff()\n",
    "    gain = (delta.where(delta > 0, 0)).rolling(window=period).mean()\n",
    "    loss = (-delta.where(delta < 0, 0)).rolling(window=period).mean()\n",
    "    rs = gain / loss\n",
    "    return 100 - (100 / (1 + rs))\n",
    "\n",
    "def MACD(data, short_period=12, long_period=26, signal_period=9):\n",
    "    short_ema = pd.Series(data).ewm(span=short_period, adjust=False).mean()\n",
    "    long_ema = pd.Series(data).ewm(span=long_period, adjust=False).mean()\n",
    "    macd = short_ema - long_ema\n",
    "    signal = macd.ewm(span=signal_period, adjust=False).mean()\n",
    "    return macd, signal\n",
    "\n",
    "def EMA(data, period):\n",
    "    return data.ewm(span=period, adjust=False).mean()\n",
    "\n",
    "def SMA(data, period):\n",
    "    return data.rolling(window=period).mean()\n"
   ]
  },
  {
   "cell_type": "code",
   "execution_count": 4,
   "metadata": {},
   "outputs": [],
   "source": [
    "# parametres du backtest\n",
    "params1 = 1\n",
    "params2 = 1\n",
    "params3 = 1\n"
   ]
  },
  {
   "cell_type": "code",
   "execution_count": 5,
   "metadata": {},
   "outputs": [],
   "source": [
    "\n",
    "class Strat(Strategy):\n",
    "    parametre1 = params1\n",
    "    parametre2 = params2\n",
    "    parametre3 = params3\n",
    "    def init(self):\n",
    "        # Initialisation des indicateurs MACD et Signal\n",
    "        macd, signal = MACD(self.data.Close, self.parametre1, self.parametre2, self.parametre3)\n",
    "        self.macd = self.I(lambda: macd)\n",
    "        self.signal = self.I(lambda: signal)\n",
    "\n",
    "    def next(self):\n",
    "        # Si le MACD croise au-dessus du Signal, c'est un signal d'achat\n",
    "        if crossover(self.macd, self.signal):\n",
    "            self.buy()\n",
    "        # Si le MACD croise en-dessous du Signal, c'est un signal de vente\n",
    "        elif crossover(self.signal, self.macd):\n",
    "            self.sell()\n"
   ]
  },
  {
   "cell_type": "code",
   "execution_count": 6,
   "metadata": {},
   "outputs": [
    {
     "data": {
      "text/plain": [
       "Start                     1970-01-01 00:26...\n",
       "End                       1970-01-01 00:26...\n",
       "Duration                  0 days 00:00:01....\n",
       "Exposure Time [%]                         0.0\n",
       "Equity Final [$]                      10000.0\n",
       "Equity Peak [$]                       10000.0\n",
       "Return [%]                                0.0\n",
       "Buy & Hold Return [%]               12.045946\n",
       "Return (Ann.) [%]                         0.0\n",
       "Volatility (Ann.) [%]                     NaN\n",
       "Sharpe Ratio                              NaN\n",
       "Sortino Ratio                             NaN\n",
       "Calmar Ratio                              NaN\n",
       "Max. Drawdown [%]                        -0.0\n",
       "Avg. Drawdown [%]                         NaN\n",
       "Max. Drawdown Duration                    NaN\n",
       "Avg. Drawdown Duration                    NaN\n",
       "# Trades                                    0\n",
       "Win Rate [%]                              NaN\n",
       "Best Trade [%]                            NaN\n",
       "Worst Trade [%]                           NaN\n",
       "Avg. Trade [%]                            NaN\n",
       "Max. Trade Duration                       NaN\n",
       "Avg. Trade Duration                       NaN\n",
       "Profit Factor                             NaN\n",
       "Expectancy [%]                            NaN\n",
       "SQN                                       NaN\n",
       "_strategy                               Strat\n",
       "_equity_curve                             ...\n",
       "_trades                   Empty DataFrame\n",
       "...\n",
       "dtype: object"
      ]
     },
     "execution_count": 6,
     "metadata": {},
     "output_type": "execute_result"
    }
   ],
   "source": [
    "# Fonction de backtesting modifiée pour afficher le capital de départ, le capital final et le drawdown max\n",
    "def perform_backtest(data):\n",
    "    import warnings\n",
    "    warnings.filterwarnings('ignore', category=UserWarning)\n",
    "\n",
    "    #change les prametres de la stratégie\n",
    "    Strat.parametre1 = params1\n",
    "    Strat.parametre2 = params2\n",
    "    Strat.parametre3 = params3\n",
    "    bt = Backtest(data, Strat, cash=10000, commission=.002)\n",
    "    output = bt.run()\n",
    "    \n",
    "\n",
    "    # Extraction des informations\n",
    "    capital_depart = 10000  # Capital initial donné à l'argument cash lors de la création du Backtest\n",
    "    capital_final = output['Equity Final [$]']\n",
    "    drawdown_max = output['Max. Drawdown [%]']\n",
    "\n",
    "    # Affichage des informations\n",
    "    # print(f\"Capital de départ : {capital_depart}\")\n",
    "    # print(f\"Capital final : {capital_final}\")\n",
    "    # print(f\"Drawdown maximum : {drawdown_max}%\")\n",
    "\n",
    "    return output\n",
    "perform_backtest(data)"
   ]
  },
  {
   "cell_type": "code",
   "execution_count": 7,
   "metadata": {},
   "outputs": [
    {
     "name": "stdout",
     "output_type": "stream",
     "text": [
      "les meilleurs parametres sont:  [1, 1, 1] et le meilleur resultat est:  10000.0\n"
     ]
    }
   ],
   "source": [
    "# boucle de backtest\n",
    "\n",
    "\n",
    "# Appel de la fonction perform_backtest avec vos données\n",
    "result = perform_backtest(data)\n",
    "\n",
    "best_result = 0\n",
    "bests_params = [params1, params2]\n",
    "capital_final = result['Equity Final [$]']\n",
    "\n",
    "# #Boucle à deux params\n",
    "# while params1 < 5:\n",
    "#     params2 = 1\n",
    "#     while params2 < 5:\n",
    "#         result = perform_backtest(data)\n",
    "#         capital_final = result['Equity Final [$]']\n",
    "\n",
    "#         if capital_final > best_result:\n",
    "#             best_result = capital_final\n",
    "#             bests_params = [params1,  params2]\n",
    "#         print(Strat.parametre1, Strat.parametre2)\n",
    "#         params2 = params2 + step_params2\n",
    "#     params1 = params1 + step_params1\n",
    "\n",
    "# Boucle à trois params\n",
    "def test(limit1, limit2, limit3, step_params, t):\n",
    "    global params1, params2, params3, best_result, bests_params, capital_final\n",
    "    best_result = 0\n",
    "    bests_params = []\n",
    "    while params1 < limit1:\n",
    "        params2 = 1\n",
    "        while params2 < limit2:\n",
    "            params3 = t\n",
    "            while params3 < limit3:\n",
    "                result = perform_backtest(data)\n",
    "                capital_final = result['Equity Final [$]']\n",
    "\n",
    "                if capital_final > best_result:\n",
    "                    best_result = capital_final\n",
    "                    bests_params = [params1, params2, params3]\n",
    "                # print(Strat.parametre1, Strat.parametre2, Strat.parametre3)\n",
    "                params3 = params3 + step_params\n",
    "            params2 = params2 + 1\n",
    "\n",
    "        params1 = params1 + 1\n",
    "\n",
    "    print(\"les meilleurs parametres sont: \", bests_params, \"et le meilleur resultat est: \", best_result)\n",
    "\n",
    "test(10, 10, 10, 1, 1)"
   ]
  },
  {
   "cell_type": "code",
   "execution_count": null,
   "metadata": {},
   "outputs": [],
   "source": []
  }
 ],
 "metadata": {
  "kernelspec": {
   "display_name": "Python 3",
   "language": "python",
   "name": "python3"
  },
  "language_info": {
   "codemirror_mode": {
    "name": "ipython",
    "version": 3
   },
   "file_extension": ".py",
   "mimetype": "text/x-python",
   "name": "python",
   "nbconvert_exporter": "python",
   "pygments_lexer": "ipython3",
   "version": "3.12.3"
  }
 },
 "nbformat": 4,
 "nbformat_minor": 2
}
