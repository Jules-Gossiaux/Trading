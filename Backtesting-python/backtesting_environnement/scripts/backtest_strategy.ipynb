{
 "cells": [
  {
   "cell_type": "code",
   "execution_count": 87,
   "metadata": {},
   "outputs": [],
   "source": [
    "# Importation des bibliothèques nécessaires\n",
    "import pandas as pd\n",
    "import numpy as np\n",
    "import matplotlib.pyplot as plt\n",
    "import yfinance as yf\n",
    "from datetime import datetime\n",
    "from backtesting import Backtest, Strategy\n",
    "from backtesting.lib import crossover\n",
    "from backtesting.test import SMA\n"
   ]
  },
  {
   "cell_type": "code",
   "execution_count": 88,
   "metadata": {},
   "outputs": [
    {
     "name": "stderr",
     "output_type": "stream",
     "text": [
      "[*********************100%%**********************]  1 of 1 completed"
     ]
    },
    {
     "name": "stdout",
     "output_type": "stream",
     "text": [
      "                 Open       High        Low      Close  Adj Close     Volume  \\\n",
      "Date                                                                           \n",
      "2020-01-02  74.059998  75.150002  73.797501  75.087502  73.059418  135480400   \n",
      "2020-01-03  74.287498  75.144997  74.125000  74.357498  72.349121  146322800   \n",
      "2020-01-06  73.447502  74.989998  73.187500  74.949997  72.925629  118387200   \n",
      "2020-01-07  74.959999  75.224998  74.370003  74.597504  72.582657  108872000   \n",
      "2020-01-08  74.290001  76.110001  74.290001  75.797501  73.750244  132079200   \n",
      "\n",
      "                 Date  \n",
      "Date                   \n",
      "2020-01-02 2020-01-02  \n",
      "2020-01-03 2020-01-03  \n",
      "2020-01-06 2020-01-06  \n",
      "2020-01-07 2020-01-07  \n",
      "2020-01-08 2020-01-08  \n"
     ]
    },
    {
     "name": "stderr",
     "output_type": "stream",
     "text": [
      "\n"
     ]
    }
   ],
   "source": [
    "# Fonction pour télécharger des données historiques\n",
    "def download_data(ticker, start_date, end_date):\n",
    "    data = yf.download(ticker, start=start_date, end=end_date)\n",
    "    data['Date'] = data.index\n",
    "    return data\n",
    "\n",
    "# Exemple de téléchargement de données\n",
    "ticker = 'AAPL'  # Symbole boursier de l'action Apple\n",
    "start_date = '2020-01-01'\n",
    "end_date = '2023-01-01'\n",
    "\n",
    "data = download_data(ticker, start_date, end_date)\n",
    "print(data.head())\n"
   ]
  },
  {
   "cell_type": "code",
   "execution_count": 89,
   "metadata": {},
   "outputs": [],
   "source": [
    "#definitions des indicateurs\n",
    "def RSI(data, period):\n",
    "    series = pd.Series(data)\n",
    "    delta = series.diff()\n",
    "    gain = (delta.where(delta > 0, 0)).rolling(window=period).mean()\n",
    "    loss = (-delta.where(delta < 0, 0)).rolling(window=period).mean()\n",
    "    rs = gain / loss\n",
    "    return 100 - (100 / (1 + rs))\n",
    "\n",
    "\n",
    "def MACD(data, short_period=12, long_period=26, signal_period=9):\n",
    "    short_ema = pd.Series(data).ewm(span=short_period, adjust=False).mean()\n",
    "    long_ema = pd.Series(data).ewm(span=long_period, adjust=False).mean()\n",
    "    macd = short_ema - long_ema\n",
    "    signal = macd.ewm(span=signal_period, adjust=False).mean()\n",
    "    return macd, signal\n",
    "\n",
    "def EMA(data, period):\n",
    "    return data.ewm(span=period, adjust=False).mean()\n",
    "\n",
    "def SMA(data, period):\n",
    "    return data.rolling(window=period).mean()\n"
   ]
  },
  {
   "cell_type": "code",
   "execution_count": 90,
   "metadata": {},
   "outputs": [],
   "source": [
    "params1 = 20\n",
    "params2 = 50\n",
    "params3 = 30"
   ]
  },
  {
   "cell_type": "code",
   "execution_count": 91,
   "metadata": {},
   "outputs": [],
   "source": [
    "class Strat(Strategy):\n",
    "    parametre1 = params1  # exemple de valeur par défaut\n",
    "    parametre2 = params2  # exemple de valeur par défaut\n",
    "\n",
    "    def init(self):\n",
    "        # Initialisation des moyennes mobiles exponentielles\n",
    "        self.ema1 = self.I(EMA, pd.Series(self.data.Close), self.parametre1)\n",
    "        self.ema2 = self.I(EMA, pd.Series(self.data.Close), self.parametre2)\n",
    "\n",
    "    def next(self):\n",
    "        # Croisement des EMA pour les signaux d'achat et de vente\n",
    "        if crossover(self.ema1, self.ema2):\n",
    "            self.buy()\n",
    "        elif crossover(self.ema2, self.ema1):\n",
    "            self.sell()\n",
    "\n"
   ]
  },
  {
   "cell_type": "code",
   "execution_count": 92,
   "metadata": {},
   "outputs": [
    {
     "name": "stderr",
     "output_type": "stream",
     "text": [
      "BokehDeprecationWarning: Passing lists of formats for DatetimeTickFormatter scales was deprecated in Bokeh 3.0. Configure a single string format for each scale\n",
      "c:\\Python312\\Lib\\site-packages\\backtesting\\_plotting.py:250: UserWarning: DatetimeFormatter scales now only accept a single format. Using the first provided: '%d %b'\n",
      "  formatter=DatetimeTickFormatter(days=['%d %b', '%a %d'],\n",
      "BokehDeprecationWarning: Passing lists of formats for DatetimeTickFormatter scales was deprecated in Bokeh 3.0. Configure a single string format for each scale\n",
      "c:\\Python312\\Lib\\site-packages\\backtesting\\_plotting.py:250: UserWarning: DatetimeFormatter scales now only accept a single format. Using the first provided: '%m/%Y'\n",
      "  formatter=DatetimeTickFormatter(days=['%d %b', '%a %d'],\n",
      "c:\\Python312\\Lib\\site-packages\\backtesting\\_plotting.py:456: FutureWarning: 'M' is deprecated and will be removed in a future version, please use 'ME' instead.\n",
      "  .resample(resample_rule, label='left')\n",
      "c:\\Python312\\Lib\\site-packages\\backtesting\\_plotting.py:659: UserWarning: found multiple competing values for 'toolbar.active_drag' property; using the latest value\n",
      "  fig = gridplot(\n",
      "c:\\Python312\\Lib\\site-packages\\backtesting\\_plotting.py:659: UserWarning: found multiple competing values for 'toolbar.active_scroll' property; using the latest value\n",
      "  fig = gridplot(\n"
     ]
    },
    {
     "name": "stdout",
     "output_type": "stream",
     "text": [
      "20 50\n",
      "Start                     2020-01-02 00:00:00\n",
      "End                       2022-12-30 00:00:00\n",
      "Duration                   1093 days 00:00:00\n",
      "Exposure Time [%]                   99.206349\n",
      "Equity Final [$]                 16477.401873\n",
      "Equity Peak [$]                  23338.200701\n",
      "Return [%]                          64.774019\n",
      "Buy & Hold Return [%]               73.038109\n",
      "Return (Ann.) [%]                   18.112604\n",
      "Volatility (Ann.) [%]               44.926232\n",
      "Sharpe Ratio                         0.403163\n",
      "Sortino Ratio                        0.722745\n",
      "Calmar Ratio                         0.578587\n",
      "Max. Drawdown [%]                  -31.304917\n",
      "Avg. Drawdown [%]                   -5.533646\n",
      "Max. Drawdown Duration      361 days 00:00:00\n",
      "Avg. Drawdown Duration       33 days 00:00:00\n",
      "# Trades                                    1\n",
      "Win Rate [%]                            100.0\n",
      "Best Trade [%]                      65.040172\n",
      "Worst Trade [%]                     65.040172\n",
      "Avg. Trade [%]                      65.040172\n",
      "Max. Trade Duration        1085 days 00:00:00\n",
      "Avg. Trade Duration        1085 days 00:00:00\n",
      "Profit Factor                             NaN\n",
      "Expectancy [%]                      65.040172\n",
      "SQN                                       NaN\n",
      "_strategy                               Strat\n",
      "_equity_curve                             ...\n",
      "_trades                      Size  EntryBa...\n",
      "dtype: object\n"
     ]
    }
   ],
   "source": [
    "def perform_backtest(data):\n",
    "    Strat.parametre1 = params1\n",
    "    Strat.parametre2 = params2\n",
    "    print(Strat.parametre1, Strat.parametre2)\n",
    "    bt = Backtest(data, Strat, cash=10000, commission=.002)\n",
    "    output = bt.run()\n",
    "    bt.plot()\n",
    "    return output\n",
    "\n",
    "# Exécution du backtest\n",
    "result = perform_backtest(data)\n",
    "print(result)\n"
   ]
  }
 ],
 "metadata": {
  "kernelspec": {
   "display_name": "Python 3",
   "language": "python",
   "name": "python3"
  },
  "language_info": {
   "codemirror_mode": {
    "name": "ipython",
    "version": 3
   },
   "file_extension": ".py",
   "mimetype": "text/x-python",
   "name": "python",
   "nbconvert_exporter": "python",
   "pygments_lexer": "ipython3",
   "version": "3.12.3"
  }
 },
 "nbformat": 4,
 "nbformat_minor": 2
}
